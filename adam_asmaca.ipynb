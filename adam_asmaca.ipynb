{
  "nbformat": 4,
  "nbformat_minor": 0,
  "metadata": {
    "colab": {
      "name": "adam_asmaca.ipynb",
      "provenance": [],
      "collapsed_sections": [],
      "authorship_tag": "ABX9TyMEZMoK7J2kVx8PqLDejXVr",
      "include_colab_link": true
    },
    "kernelspec": {
      "name": "python3",
      "display_name": "Python 3"
    }
  },
  "cells": [
    {
      "cell_type": "markdown",
      "metadata": {
        "id": "view-in-github",
        "colab_type": "text"
      },
      "source": [
        "<a href=\"https://colab.research.google.com/github/rumeysakara/bby162/blob/master/adam_asmaca.ipynb\" target=\"_parent\"><img src=\"https://colab.research.google.com/assets/colab-badge.svg\" alt=\"Open In Colab\"/></a>"
      ]
    },
    {
      "cell_type": "code",
      "metadata": {
        "id": "z_u3e8xPs8Ha",
        "colab_type": "code",
        "outputId": "e61a429a-05f0-4210-dae3-9abbc3b5d60b",
        "colab": {
          "base_uri": "https://localhost:8080/",
          "height": 87
        }
      },
      "source": [
        "from random import randint \n",
        "kelimeler = [\"Ekonomi\", \"Sosyoloji\", \"Tıp\",\"İşletme\"]\n",
        "secilenIndex = randint(0,3)\n",
        "\n",
        "secilenKelime = kelimeler[secilenIndex]\n",
        "print(secilenKelime)\n",
        "tahminKelime = []\n",
        "for harf in secilenKelime:\n",
        "  tahminKelime.append(\"_\")\n",
        "print(\"Kelime: \"+ str(tahminKelime))\n",
        "can = 3\n",
        "i = 0\n",
        "anlikTahmin = 0\n",
        "bittimi = 1\n",
        "while can>0 :\n",
        "  print(\"kalanCan: \"+ str(can))\n",
        "  bittimi = 1\n",
        "  for a in tahminKelime:\n",
        "    if a == \"_\":\n",
        "      bittimi = 0\n",
        "  if bittimi == 1:\n",
        "    print(\"kazandınız\")\n",
        "    break\n",
        "  harfgir = input(\"Harf giriniz:\")\n",
        "  i = 0\n",
        "  anlikTahmin = 0\n",
        "  for harf in secilenKelime:\n",
        "    if harfgir == harf:\n",
        "      anlikTahmin = 1\n",
        "      tahminKelime[i] = harf\n",
        "      print(tahminKelime)\n",
        "    i+=1\n",
        "  if not anlikTahmin == 1:\n",
        "    can-=1\n",
        "if can == 0:\n",
        " print(\"Kaybettiniz\")\n",
        "  \n",
        "  \n",
        "  \n",
        "\n",
        "\n"
      ],
      "execution_count": 0,
      "outputs": [
        {
          "output_type": "stream",
          "text": [
            "Sosyoloji\n",
            "Kelime: ['_', '_', '_', '_', '_', '_', '_', '_', '_']\n",
            "kalanCan: 3\n"
          ],
          "name": "stdout"
        }
      ]
    }
  ]
}