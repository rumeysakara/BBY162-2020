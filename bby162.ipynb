{
  "nbformat": 4,
  "nbformat_minor": 0,
  "metadata": {
    "colab": {
      "name": "bby162.ipynb",
      "provenance": [],
      "collapsed_sections": [],
      "authorship_tag": "ABX9TyOJQWsEEaRdwdE8vYqwC0l6",
      "include_colab_link": true
    },
    "kernelspec": {
      "name": "python3",
      "display_name": "Python 3"
    }
  },
  "cells": [
    {
      "cell_type": "markdown",
      "metadata": {
        "id": "view-in-github",
        "colab_type": "text"
      },
      "source": [
        "<a href=\"https://colab.research.google.com/github/rumeysakara/bby162/blob/master/bby162.ipynb\" target=\"_parent\"><img src=\"https://colab.research.google.com/assets/colab-badge.svg\" alt=\"Open In Colab\"/></a>"
      ]
    },
    {
      "cell_type": "code",
      "metadata": {
        "id": "youXwjhgkyC1",
        "colab_type": "code",
        "outputId": "95999cfc-7608-46e0-f01a-ee3bd0f76b68",
        "colab": {
          "base_uri": "https://localhost:8080/",
          "height": 102
        }
      },
      "source": [
        "urunAdi = \"fırın\"\n",
        "butce = 300\n",
        "urunFiyatı = 100\n",
        "adet = 2\n",
        "odeme = urunFiyatı * adet\n",
        "print(\"butceniz: \" + str(butce))\n",
        "print(\"toplam fiyat: \" + str(\"odeme\"))\n",
        "sonuc = butce > odeme\n",
        "print(\"sonuc\")\n",
        "print(\"almak istediğiniz \" + str(adet) + \" \" + urunAdi + \" \" + str(odeme)+ \" tl'dir. \")\n",
        "print(\"Alabilir misiniz? \" + str(sonuc))"
      ],
      "execution_count": 2,
      "outputs": [
        {
          "output_type": "stream",
          "text": [
            "butceniz: 300\n",
            "toplam fiyat: odeme\n",
            "sonuc\n",
            "almak istediğiniz 2 fırın 200 tl'dir. \n",
            "Alabilir misiniz? True\n"
          ],
          "name": "stdout"
        }
      ]
    }
  ]
}