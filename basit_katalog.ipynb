{
  "nbformat": 4,
  "nbformat_minor": 0,
  "metadata": {
    "colab": {
      "name": "basit_katalog",
      "provenance": [],
      "collapsed_sections": [],
      "authorship_tag": "ABX9TyOPaQBdqRdznNMBDQrCLp8n",
      "include_colab_link": true
    },
    "kernelspec": {
      "name": "python3",
      "display_name": "Python 3"
    }
  },
  "cells": [
    {
      "cell_type": "markdown",
      "metadata": {
        "id": "view-in-github",
        "colab_type": "text"
      },
      "source": [
        "<a href=\"https://colab.research.google.com/github/rumeysakara/BBY162-2020/blob/master/basit_katalog.ipynb\" target=\"_parent\"><img src=\"https://colab.research.google.com/assets/colab-badge.svg\" alt=\"Open In Colab\"/></a>"
      ]
    },
    {
      "cell_type": "code",
      "metadata": {
        "id": "mecORQLKI6qM",
        "colab_type": "code",
        "colab": {
          "base_uri": "https://localhost:8080/",
          "height": 493
        },
        "outputId": "0144e045-20e3-4bb5-b0fa-cbb13af2f0bf"
      },
      "source": [
        "from google.colab import drive\n",
        "drive.mount('/gdrive')\n",
        "def KitapEkle():\n",
        "  dosya = \"/gdrive/My Drive/Colab Notebooks/bby162/kitap_listesi.txt\"\n",
        "  f = open(dosya, \"a\",encoding=\"utf-8\")\n",
        "  kitabinAdi = input(\"Kitap Adı: \")\n",
        "  yazarAdi = input(\"Yazar Adı: \")\n",
        "  basimYili = input(\"Basım Yılı: \")\n",
        "  isbn = input(\"isbn : \")\n",
        "  yayinEvi = input(\"Yayın Evi: \")\n",
        "  f.write(kitabinAdi+\"|\" + yazarAdi + \"|\" + basimYili + \"|\" + isbn + \"|\" + yayinEvi+\"\\n\")\n",
        "  print(\"Kitap Kayıt edildi.\")\n",
        "  f.close()\n",
        "\n",
        "def KitaplariListele():\n",
        "  dosya = \"/gdrive/My Drive/Colab Notebooks/bby162/kitap_listesi.txt\"\n",
        "  f = open(dosya, \"r\", encoding='utf-8')\n",
        "  print(f.read())\n",
        "  #for line in f.readlines():\n",
        "    #print(line)\n",
        "  f.close()\n",
        "\n",
        "\n",
        "islemTipi = 0\n",
        "while not islemTipi == 3 :\n",
        "  print(\"İşlem Seçiniz\")\n",
        "  print(\"1)Kitap ekle\")\n",
        "  print(\"2)Kitapları Listele\")\n",
        "  print(\"3)Çıkış\")\n",
        "  \n",
        "  islemTipi = int (input(\"Seçilen İşlem:\"))\n",
        "  if islemTipi == 1:\n",
        "    KitapEkle()\n",
        "  elif islemTipi == 2:\n",
        "    KitaplariListele()\n",
        "  elif islemTipi == 3:\n",
        "    break\n",
        "  else:\n",
        "    print(\"Yanlış işlem Seçtiniz\")\n",
        "    continue"
      ],
      "execution_count": 22,
      "outputs": [
        {
          "output_type": "stream",
          "text": [
            "Drive already mounted at /gdrive; to attempt to forcibly remount, call drive.mount(\"/gdrive\", force_remount=True).\n",
            "İşlem Seçiniz\n",
            "1)Kitap ekle\n",
            "2)Kitapları Listele\n",
            "3)Çıkış\n",
            "Seçilen İşlem:1\n",
            "Kitap Adı: adfas\n",
            "Yazar Adı: asdasd\n",
            "Basım Yılı: asdasdasd\n",
            "isbn : asdasd\n",
            "Yayın Evi: asdasd\n",
            "Kitap Kayıt edildi.\n",
            "İşlem Seçiniz\n",
            "1)Kitap ekle\n",
            "2)Kitapları Listele\n",
            "3)Çıkış\n",
            "Seçilen İşlem:2\n",
            "﻿Sineklerin Tanrısı|William Golding|2019|9789754582901|İş Bankası Kültür Yayınları\n",
            "İçimizdeki Şeytan|Sabahattin Ali|2020|9786257999274|İş Bankası Kültür Yayınları\n",
            "Karmaşık Duygular|Stefan Zweig|2019|97860553324942|İş Bankası Kültür Yayınları\n",
            "uuuu|ıııı|şşş|ççç|ööö\n",
            "adfas|asdasd|asdasdasd|asdasd|asdasd\n",
            "\n",
            "İşlem Seçiniz\n",
            "1)Kitap ekle\n",
            "2)Kitapları Listele\n",
            "3)Çıkış\n",
            "Seçilen İşlem:3\n"
          ],
          "name": "stdout"
        }
      ]
    }
  ]
}